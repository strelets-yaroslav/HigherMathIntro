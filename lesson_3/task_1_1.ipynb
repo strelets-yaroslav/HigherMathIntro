{
 "cells": [
  {
   "cell_type": "markdown",
   "metadata": {},
   "source": [
    "1. Задание\n",
    "\n",
    "Даны два вектора в трехмерном пространстве: (10,10,10) и (0,0,-10)\n",
    "\n",
    "Найдите их сумму. (на листочке)\n",
    "\n",
    "Напишите код на Python, реализующий расчет длины вектора, заданного его координатами. (в программе)"
   ]
  },
  {
   "cell_type": "markdown",
   "metadata": {},
   "source": [
    "Сумма векторов: "
   ]
  },
  {
   "cell_type": "code",
   "execution_count": 1,
   "metadata": {},
   "outputs": [],
   "source": [
    "import numpy as np"
   ]
  },
  {
   "cell_type": "code",
   "execution_count": 30,
   "metadata": {},
   "outputs": [],
   "source": [
    "class Vector:\n",
    "    __values = []\n",
    "    \n",
    "    def __init__(self, values):\n",
    "        if (type(values) == list):\n",
    "            self.__values = values\n",
    "        else:\n",
    "            raise Exception(\"Вектор должен быть представлен списком значений.\")\n",
    "    \n",
    "    def __add__(a, b):\n",
    "        if len(a.__values) != len(b.__values):\n",
    "            raise Exception(\"Вектора должны быть одинаковой размерности.\")\n",
    "        \n",
    "        return Vector([a.__values[i] + b.__values[i] for i in range(len(a.__values))])\n",
    "    \n",
    "    @property\n",
    "    def length(self):\n",
    "        return np.sqrt(sum([val**2 for val in self.__values]))\n",
    "    \n",
    "    def __str__(self):\n",
    "        return str(self.__values)"
   ]
  },
  {
   "cell_type": "code",
   "execution_count": 31,
   "metadata": {},
   "outputs": [
    {
     "name": "stdout",
     "output_type": "stream",
     "text": [
      "[10, 10, 0]\n"
     ]
    }
   ],
   "source": [
    "a = Vector([10, 10, 10])\n",
    "b = Vector([0, 0, -10])\n",
    "c = a + b\n",
    "print(c)"
   ]
  },
  {
   "cell_type": "code",
   "execution_count": 32,
   "metadata": {},
   "outputs": [
    {
     "name": "stdout",
     "output_type": "stream",
     "text": [
      "17.320508075688775\n",
      "10.0\n",
      "14.142135623730951\n"
     ]
    }
   ],
   "source": [
    "print(a.length)\n",
    "print(b.length)\n",
    "print(c.length)"
   ]
  },
  {
   "cell_type": "code",
   "execution_count": null,
   "metadata": {},
   "outputs": [],
   "source": []
  }
 ],
 "metadata": {
  "kernelspec": {
   "display_name": "Python 3",
   "language": "python",
   "name": "python3"
  },
  "language_info": {
   "codemirror_mode": {
    "name": "ipython",
    "version": 3
   },
   "file_extension": ".py",
   "mimetype": "text/x-python",
   "name": "python",
   "nbconvert_exporter": "python",
   "pygments_lexer": "ipython3",
   "version": "3.7.3"
  }
 },
 "nbformat": 4,
 "nbformat_minor": 2
}
