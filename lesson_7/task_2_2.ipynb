{
 "cells": [
  {
   "cell_type": "markdown",
   "metadata": {},
   "source": [
    "2. Найдите псевдорешение:\n",
    "\n",
    "$$ \\left\\{\n",
    "    \\begin{array}\\\\\n",
    "        x + 2y – z = 1\\\\\n",
    "        3x – 4y = 7\\\\\n",
    "        8x – 5y + 2z = 12\\\\\n",
    "        2x – 5z = 7\\\\\n",
    "        11x +4y – 7z = 15\n",
    "    \\end{array}\n",
    "\\right. $$"
   ]
  },
  {
   "cell_type": "code",
   "execution_count": 3,
   "metadata": {},
   "outputs": [
    {
     "name": "stdout",
     "output_type": "stream",
     "text": [
      "Псевдорешение: [ 1.13919353 -0.90498444 -0.9009803 ], погрешность/невязка = [0.71523211]\n"
     ]
    }
   ],
   "source": [
    "import numpy as np\n",
    "\n",
    "A = np.array([[1, 2, -1],\n",
    "             [3, -4, 0],\n",
    "             [8, -5, 2],\n",
    "             [2, 0, -5],\n",
    "             [11, 4, -7]])\n",
    "B = np.array([1, 7, 12, 7, 15])\n",
    "solution, error, rank, x = np.linalg.lstsq(A, B, rcond=None)\n",
    "print(f\"Псевдорешение: {solution}, погрешность/невязка = {error}\")"
   ]
  },
  {
   "cell_type": "code",
   "execution_count": null,
   "metadata": {},
   "outputs": [],
   "source": []
  }
 ],
 "metadata": {
  "kernelspec": {
   "display_name": "Python 3",
   "language": "python",
   "name": "python3"
  },
  "language_info": {
   "codemirror_mode": {
    "name": "ipython",
    "version": 3
   },
   "file_extension": ".py",
   "mimetype": "text/x-python",
   "name": "python",
   "nbconvert_exporter": "python",
   "pygments_lexer": "ipython3",
   "version": "3.7.3"
  }
 },
 "nbformat": 4,
 "nbformat_minor": 2
}
