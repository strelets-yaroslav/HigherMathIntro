{
 "cells": [
  {
   "cell_type": "markdown",
   "metadata": {},
   "source": [
    "5.3.\n",
    "1. Вычислите матрицу, обратную данной:\n",
    "$$ \\begin{vmatrix}\n",
    "1 & 2 & 3\\\\\n",
    "4 & 0 & 6\\\\\n",
    "7 & 8 & 9\n",
    "\\end{vmatrix} $$\n",
    "\n",
    "2. Приведите пример матрицы 4х4, ранг которой равен 1."
   ]
  },
  {
   "cell_type": "markdown",
   "metadata": {},
   "source": [
    "1. Определитель матрицы равен 60. Построим матрицу алг.дополнений:\n",
    "$$ \\begin{vmatrix}\n",
    "-48 & 6 & 32\\\\\n",
    "6 & -12 & 6\\\\\n",
    "12 & 6 & -8\n",
    "\\end{vmatrix} $$\n",
    "\n",
    "После транспонирования матрицы алг.дополнений и деления на определитель, обратная исходной будет равна:\n",
    "$$ \\begin{vmatrix}\n",
    "-0.8 & 0.1 & 0.2\\\\\n",
    "0.1 & -0.2 & 0.1\\\\\n",
    "\\frac{8}{15} & 0.1 & -\\frac{2}{15}\n",
    "\\end{vmatrix} $$"
   ]
  },
  {
   "cell_type": "code",
   "execution_count": 7,
   "metadata": {},
   "outputs": [
    {
     "name": "stdout",
     "output_type": "stream",
     "text": [
      "[[ 1.0000000e+00  0.0000000e+00  0.0000000e+00]\n",
      " [ 0.0000000e+00  1.0000000e+00  0.0000000e+00]\n",
      " [-8.8817842e-16  0.0000000e+00  1.0000000e+00]]\n",
      "[[-0.8         0.1         0.2       ]\n",
      " [ 0.1        -0.2         0.1       ]\n",
      " [ 0.53333333  0.1        -0.13333333]]\n",
      "[[-0.8         0.1         0.2       ]\n",
      " [ 0.1        -0.2         0.1       ]\n",
      " [ 0.53333333  0.1        -0.13333333]]\n"
     ]
    }
   ],
   "source": [
    "import numpy as np\n",
    "\n",
    "a = np.array([[1, 2, 3], [4, 0, 6], [7, 8, 9]])\n",
    "b = np.array([[-0.8, 0.1, 0.2], [0.1, -0.2, 0.1], [8 / 15, 0.1, -2 / 15]])\n",
    "c = np.dot(a, b)\n",
    "print(c)\n",
    "a_1 = np.linalg.inv(a)\n",
    "print(b)\n",
    "print(a_1)"
   ]
  },
  {
   "cell_type": "markdown",
   "metadata": {},
   "source": [
    "2. Матрица, все элементы которой за исключением одного, будет иметь ранг 1. Также,например, если в матрице есть 2 ненулевых элемента, стоящих рядом в одной строке или столбце, то её ранг будет равен 1.\n",
    "\n",
    "$$ \\begin{vmatrix}\n",
    "0 & 0 & 5 & 0\\\\\n",
    "0 & 0 & 0 & 0\\\\\n",
    "0 & 0 & 0 & 0\\\\\n",
    "0 & 0 & 0 & 0\n",
    "\\end{vmatrix},\n",
    "\\begin{vmatrix}\n",
    "0 & 3 & 0 & 0\\\\\n",
    "0 & -2 & 0 & 0\\\\\n",
    "0 & 0 & 0 & 0\\\\\n",
    "0 & 0 & 0 & 0\\\\\n",
    "\\end{vmatrix},\n",
    "\\begin{vmatrix}\n",
    "0 & 0 & 0 & 0\\\\\n",
    "0 & 8 & 10 & 0\\\\\n",
    "0 & 0 & 0 & 0\\\\\n",
    "0 & 0 & 0 & 0\\\\\n",
    "\\end{vmatrix} $$"
   ]
  },
  {
   "cell_type": "code",
   "execution_count": null,
   "metadata": {},
   "outputs": [],
   "source": []
  }
 ],
 "metadata": {
  "kernelspec": {
   "display_name": "Python 3",
   "language": "python",
   "name": "python3"
  },
  "language_info": {
   "codemirror_mode": {
    "name": "ipython",
    "version": 3
   },
   "file_extension": ".py",
   "mimetype": "text/x-python",
   "name": "python",
   "nbconvert_exporter": "python",
   "pygments_lexer": "ipython3",
   "version": "3.7.3"
  }
 },
 "nbformat": 4,
 "nbformat_minor": 2
}
