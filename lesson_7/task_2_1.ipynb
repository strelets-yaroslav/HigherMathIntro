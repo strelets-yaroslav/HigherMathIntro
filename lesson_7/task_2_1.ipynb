{
 "cells": [
  {
   "cell_type": "markdown",
   "metadata": {},
   "source": [
    "1. Решите линейную систему:\n",
    "$$ \\begin{pmatrix}\n",
    "1 & 2 & 3\\\\\n",
    "4 & 0 & 6\\\\\n",
    "7 & 8 & 9\n",
    "\\end{pmatrix} \\times X = \\begin{pmatrix}\n",
    "12\\\\\n",
    "2\\\\\n",
    "1\n",
    "\\end{pmatrix}$$"
   ]
  },
  {
   "cell_type": "markdown",
   "metadata": {},
   "source": [
    "Найдём определитель матрицы А - он равен 60 (из задачи 5.2), т.е. не равен 0, следовательно мы можем воспользоваться способом: $ X = A^{-1}*B $\n",
    "\n",
    "Обратная матрица равна (из 5.3):\n",
    "$$ \\begin{pmatrix}\n",
    "-0.8 & 0.1 & 0.2\\\\\n",
    "0.1 & -0.2 & 0.1\\\\\n",
    "\\frac{8}{15} & 0.1 & -\\frac{2}{15}\n",
    "\\end{pmatrix} $$\n",
    "\n",
    "Найдём произведение обратной матрицы и матрицы B:\n",
    "$$ \\begin{pmatrix}\n",
    "-0.8*12 & 0.1*2 & 0.2*1\\\\\n",
    "0.1*12 & -0.2*2 & 0.1*1\\\\\n",
    "\\frac{8}{15}*12 & 0.1*2 & -\\frac{2}{15}*1\n",
    "\\end{pmatrix} = \\begin{pmatrix}\n",
    "-9.2\\\\\n",
    "0.9\\\\\n",
    "\\frac{97}{15}\n",
    "\\end{pmatrix}$$"
   ]
  },
  {
   "cell_type": "code",
   "execution_count": 5,
   "metadata": {
    "scrolled": true
   },
   "outputs": [
    {
     "name": "stdout",
     "output_type": "stream",
     "text": [
      "determinant = 59.999999999999986\n",
      "[[-0.8         0.1         0.2       ]\n",
      " [ 0.1        -0.2         0.1       ]\n",
      " [ 0.53333333  0.1        -0.13333333]]\n",
      "[-9.2         0.9         6.46666667]\n"
     ]
    }
   ],
   "source": [
    "import numpy as np\n",
    "\n",
    "A = np.array([[1, 2, 3], [4, 0, 6], [7, 8, 9]])\n",
    "B = np.array([12, 2, 1])\n",
    "det = np.linalg.det(A)\n",
    "print(f\"determinant = {det}\")\n",
    "if det > 0:\n",
    "    A_1 = np.linalg.inv(A)\n",
    "    print(A_1)\n",
    "    x = np.dot(A_1, B)\n",
    "    print(x)"
   ]
  },
  {
   "cell_type": "code",
   "execution_count": 6,
   "metadata": {},
   "outputs": [
    {
     "data": {
      "text/plain": [
       "array([-9.2       ,  0.9       ,  6.46666667])"
      ]
     },
     "execution_count": 6,
     "metadata": {},
     "output_type": "execute_result"
    }
   ],
   "source": [
    "np.linalg.solve(A, B)"
   ]
  },
  {
   "cell_type": "code",
   "execution_count": null,
   "metadata": {},
   "outputs": [],
   "source": []
  }
 ],
 "metadata": {
  "kernelspec": {
   "display_name": "Python 3",
   "language": "python",
   "name": "python3"
  },
  "language_info": {
   "codemirror_mode": {
    "name": "ipython",
    "version": 3
   },
   "file_extension": ".py",
   "mimetype": "text/x-python",
   "name": "python",
   "nbconvert_exporter": "python",
   "pygments_lexer": "ipython3",
   "version": "3.7.3"
  }
 },
 "nbformat": 4,
 "nbformat_minor": 2
}
