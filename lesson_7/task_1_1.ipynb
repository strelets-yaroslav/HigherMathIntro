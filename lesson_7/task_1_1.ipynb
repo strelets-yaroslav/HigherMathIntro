{
 "cells": [
  {
   "cell_type": "markdown",
   "metadata": {},
   "source": [
    "1. Вектор – это частный случай матрицы 1хN и Nх1. Повторите материал для векторов, уделяя особое внимание умножению A∙B.\n",
    "2. Вычислите, по возможности не используя программирование: (5E)-1 где Е – единичная матрица размера 5х5."
   ]
  },
  {
   "cell_type": "markdown",
   "metadata": {},
   "source": [
    "1. При произведении векторов, представленных, как 1xN на Nx1 (строку на столбец), мы получим результат, идентичный операции скалярного произведения двух векторов (сумма произведений покомпонентно). Если же произведение будет осуществляться в случе Nx1 на 1xN, то в результате будет получена матрица размерности NxN произведений каждого компонента первого вектора на компоненты второго, при этом сумма компонент главной диагонали полученной матрицы также даст скалярное произведение векторов."
   ]
  },
  {
   "cell_type": "code",
   "execution_count": 1,
   "metadata": {},
   "outputs": [],
   "source": [
    "import numpy as np"
   ]
  },
  {
   "cell_type": "code",
   "execution_count": 31,
   "metadata": {},
   "outputs": [
    {
     "name": "stdout",
     "output_type": "stream",
     "text": [
      "70\n",
      "[[ 5 10 15 20]\n",
      " [ 6 12 18 24]\n",
      " [ 7 14 21 28]\n",
      " [ 8 16 24 32]]\n",
      "70\n"
     ]
    }
   ],
   "source": [
    "a = np.array([[1, 2, 3, 4]])\n",
    "b = np.array([[5], [6], [7], [8]])\n",
    "scalar = np.dot(a, b)\n",
    "matrix = np.dot(b, a)\n",
    "print(scalar[0, 0])\n",
    "print(matrix)\n",
    "print(sum([matrix[i, j] if i == j else 0 for j in range(len(matrix)) for i in range(len(matrix))]))"
   ]
  },
  {
   "cell_type": "markdown",
   "metadata": {},
   "source": [
    "2. Произведение 5 на Е даст нам диагнональную матрицу с числами 5 по главной диагонали. Определитель данной матрицы будет равен $ 5^5 $ - произведение элементов главной диагонали. Матрица алгебраических дополнений будет также диагональной матрицей, по главной диагонали которой будут находиться числа $ 5^4 $ - при нахождении миноров мы будем получать диагональные матрицы, определители которых равны произведению элементов главной диагонали. Транспонирование матрицы алг.дополнений даст нам ту же матрицу (вращение по главной диагонали). Обратная исходной будет являться также диагональной матрицей, по главной диагонали которой будут находиться числа $ \\frac{5^4}{5^5} = \\frac{1}{5} = 0.2 $."
   ]
  },
  {
   "cell_type": "code",
   "execution_count": 32,
   "metadata": {},
   "outputs": [
    {
     "name": "stdout",
     "output_type": "stream",
     "text": [
      "[[0.2 0.  0.  0.  0. ]\n",
      " [0.  0.2 0.  0.  0. ]\n",
      " [0.  0.  0.2 0.  0. ]\n",
      " [0.  0.  0.  0.2 0. ]\n",
      " [0.  0.  0.  0.  0.2]]\n"
     ]
    },
    {
     "data": {
      "text/plain": [
       "array([[1., 0., 0., 0., 0.],\n",
       "       [0., 1., 0., 0., 0.],\n",
       "       [0., 0., 1., 0., 0.],\n",
       "       [0., 0., 0., 1., 0.],\n",
       "       [0., 0., 0., 0., 1.]])"
      ]
     },
     "execution_count": 32,
     "metadata": {},
     "output_type": "execute_result"
    }
   ],
   "source": [
    "n = 5\n",
    "k = 5\n",
    "a = np.identity(n)\n",
    "b = k * a\n",
    "el = 1 / k\n",
    "c = np.array([[el if i == j else 0 for j in range(n)] for i in range(n)])\n",
    "print(c)\n",
    "np.dot(b, c)"
   ]
  },
  {
   "cell_type": "code",
   "execution_count": 30,
   "metadata": {},
   "outputs": [
    {
     "data": {
      "text/plain": [
       "array([[0.2, 0. , 0. , 0. , 0. ],\n",
       "       [0. , 0.2, 0. , 0. , 0. ],\n",
       "       [0. , 0. , 0.2, 0. , 0. ],\n",
       "       [0. , 0. , 0. , 0.2, 0. ],\n",
       "       [0. , 0. , 0. , 0. , 0.2]])"
      ]
     },
     "execution_count": 30,
     "metadata": {},
     "output_type": "execute_result"
    }
   ],
   "source": [
    "np.linalg.inv(b)"
   ]
  },
  {
   "cell_type": "code",
   "execution_count": null,
   "metadata": {},
   "outputs": [],
   "source": []
  }
 ],
 "metadata": {
  "kernelspec": {
   "display_name": "Python 3",
   "language": "python",
   "name": "python3"
  },
  "language_info": {
   "codemirror_mode": {
    "name": "ipython",
    "version": 3
   },
   "file_extension": ".py",
   "mimetype": "text/x-python",
   "name": "python",
   "nbconvert_exporter": "python",
   "pygments_lexer": "ipython3",
   "version": "3.7.3"
  }
 },
 "nbformat": 4,
 "nbformat_minor": 2
}
