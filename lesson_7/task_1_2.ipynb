{
 "cells": [
  {
   "cell_type": "markdown",
   "metadata": {},
   "source": [
    "5.2. Вычислите определитель:\n",
    "\n",
    "$$ \\begin{vmatrix}\n",
    "1 & 2 & 3\\\\\n",
    "4 & 0 & 6\\\\\n",
    "7 & 8 & 9\n",
    "\\end{vmatrix} $$"
   ]
  },
  {
   "cell_type": "markdown",
   "metadata": {},
   "source": [
    "Определитель вычислим через произведение элементов 0й строки на миноры.\n",
    "\n",
    "$ \\Delta = \\sum^{2}_{k=1}\\,(-1)^{k+0}*a_{0k}*M_k^0 $\n",
    "\n",
    "$ \\Delta = (-1)^0*1*M_0^0 + (-1)^1*2*M_1^0 + (-1)^2*3*M_2^0 = M_0^0 - 2*M_1^0 + 3*M_2^0 $\n",
    "\n",
    "$ \\Delta = (0*9 - 6*8) - 2*(4*9 - 6*7) + 3*(4*8 - 0*7) = -48 - 2*(-6) + 3*32 = 60 $"
   ]
  },
  {
   "cell_type": "code",
   "execution_count": 24,
   "metadata": {},
   "outputs": [],
   "source": [
    "import numpy as np"
   ]
  },
  {
   "cell_type": "code",
   "execution_count": 25,
   "metadata": {},
   "outputs": [],
   "source": [
    "def determinant(a):\n",
    "    sum = 0\n",
    "    n = len(a)\n",
    "    for i in range(n):\n",
    "        b = np.array([[a[k, j] for j in range(n) if j != i] for k in range(n) if k != 0])\n",
    "        sum += ((-1)**(i + 0))*a[0, i] * (b[0, 0] if len(b) == 1 else determinant(b))\n",
    "    return sum"
   ]
  },
  {
   "cell_type": "code",
   "execution_count": 26,
   "metadata": {},
   "outputs": [
    {
     "data": {
      "text/plain": [
       "60"
      ]
     },
     "execution_count": 26,
     "metadata": {},
     "output_type": "execute_result"
    }
   ],
   "source": [
    "a = np.array([[1, 2, 3], [4, 0, 6], [7, 8, 9]])\n",
    "determinant(a)"
   ]
  },
  {
   "cell_type": "code",
   "execution_count": 27,
   "metadata": {},
   "outputs": [
    {
     "data": {
      "text/plain": [
       "59.999999999999986"
      ]
     },
     "execution_count": 27,
     "metadata": {},
     "output_type": "execute_result"
    }
   ],
   "source": [
    "np.linalg.det(a)"
   ]
  },
  {
   "cell_type": "code",
   "execution_count": null,
   "metadata": {},
   "outputs": [],
   "source": []
  }
 ],
 "metadata": {
  "kernelspec": {
   "display_name": "Python 3",
   "language": "python",
   "name": "python3"
  },
  "language_info": {
   "codemirror_mode": {
    "name": "ipython",
    "version": 3
   },
   "file_extension": ".py",
   "mimetype": "text/x-python",
   "name": "python",
   "nbconvert_exporter": "python",
   "pygments_lexer": "ipython3",
   "version": "3.7.3"
  }
 },
 "nbformat": 4,
 "nbformat_minor": 2
}
