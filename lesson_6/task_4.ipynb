{
 "cells": [
  {
   "cell_type": "markdown",
   "metadata": {},
   "source": [
    "4. Задание  (Геометрическая вероятность +интервалы)\n",
    "\n",
    "На отрезке AB длиной 20 см наугад отметили точку C. Какова вероятность, что она находится на расстоянии не более 9 см от точки А и не более 15 см от точки В?"
   ]
  },
  {
   "cell_type": "markdown",
   "metadata": {},
   "source": [
    "Определим искомое событие в виде части отрезка: \"не более 15 см от точки В\" = \"не менее 5 см от точки А\". Выходит, что событие определяется попаданием в следующий отрезок внутри отрезка АВ: ab [5, 9], с длиной отрезка 4 см.\n",
    "\n",
    "Следовательно, вероятность попадания в искомый отрезок ab будет равна $ p = \\frac{mes(ab)}{mes(AB)} = \\frac{4}{20} = 0.2 $"
   ]
  },
  {
   "cell_type": "code",
   "execution_count": null,
   "metadata": {},
   "outputs": [],
   "source": []
  }
 ],
 "metadata": {
  "kernelspec": {
   "display_name": "Python 3",
   "language": "python",
   "name": "python3"
  },
  "language_info": {
   "codemirror_mode": {
    "name": "ipython",
    "version": 3
   },
   "file_extension": ".py",
   "mimetype": "text/x-python",
   "name": "python",
   "nbconvert_exporter": "python",
   "pygments_lexer": "ipython3",
   "version": "3.7.3"
  }
 },
 "nbformat": 4,
 "nbformat_minor": 2
}
