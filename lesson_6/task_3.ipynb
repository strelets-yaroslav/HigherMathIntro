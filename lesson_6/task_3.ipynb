{
 "cells": [
  {
   "cell_type": "markdown",
   "metadata": {},
   "source": [
    "3. Задание \n",
    "\n",
    "Найти вероятность выпадения 2 и 5 очков при двух подбрасываниях той же самой игральной игральной кости. Обратите внимание на порядок выпадения костей!"
   ]
  },
  {
   "cell_type": "markdown",
   "metadata": {},
   "source": [
    "Выпадение 2 и 5 очков при двух подбрасываниях может произойти следующими вариантами: выпадает сначала 2, затем 5 или выпадает 5, затем 2.\n",
    "\n",
    "Тогда вероятность наступления этого события $ p = p(2-5) + p(5-2)  = p(2) * p(5) * 2 = \\frac{1}{6} * \\frac{1}{6} * 2 = \\frac{1}{18} $"
   ]
  },
  {
   "cell_type": "code",
   "execution_count": null,
   "metadata": {},
   "outputs": [],
   "source": []
  }
 ],
 "metadata": {
  "kernelspec": {
   "display_name": "Python 3",
   "language": "python",
   "name": "python3"
  },
  "language_info": {
   "codemirror_mode": {
    "name": "ipython",
    "version": 3
   },
   "file_extension": ".py",
   "mimetype": "text/x-python",
   "name": "python",
   "nbconvert_exporter": "python",
   "pygments_lexer": "ipython3",
   "version": "3.7.3"
  }
 },
 "nbformat": 4,
 "nbformat_minor": 2
}
