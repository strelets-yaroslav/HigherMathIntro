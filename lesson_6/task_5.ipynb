{
 "cells": [
  {
   "cell_type": "markdown",
   "metadata": {},
   "source": [
    "5. Задание. \n",
    "\n",
    "Телефонный номер состоит из 7 цифр. Какова вероятность, \n",
    "что это номер 8882227?"
   ]
  },
  {
   "cell_type": "markdown",
   "metadata": {},
   "source": [
    "Определим количество возможных вариантов телефонного номера. Каждая позиция является числом от 0 до 9.\n",
    "\n",
    "1. Если номер может начинаться с 0, то общее количество равно $ 10^7 $. Соотвественно, вероятность искомой последовательности равна $ \\frac{1}{10^7} $\n",
    "2. Если номер не может начинаться с 0, то на первой позиции может быть только 9 чисел, а на остальных по 10. Тогда общее количество комбинаций равно $ 9*10^6 $, и вероятность искомой комбинации = $ \\frac{1}{9*10^6} $"
   ]
  },
  {
   "cell_type": "code",
   "execution_count": null,
   "metadata": {},
   "outputs": [],
   "source": []
  }
 ],
 "metadata": {
  "kernelspec": {
   "display_name": "Python 3",
   "language": "python",
   "name": "python3"
  },
  "language_info": {
   "codemirror_mode": {
    "name": "ipython",
    "version": 3
   },
   "file_extension": ".py",
   "mimetype": "text/x-python",
   "name": "python",
   "nbconvert_exporter": "python",
   "pygments_lexer": "ipython3",
   "version": "3.7.3"
  }
 },
 "nbformat": 4,
 "nbformat_minor": 2
}
