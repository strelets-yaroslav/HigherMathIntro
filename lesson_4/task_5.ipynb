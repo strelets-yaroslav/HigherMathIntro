{
 "cells": [
  {
   "cell_type": "markdown",
   "metadata": {},
   "source": [
    "Найти угол а между прямыми $ x = \\sqrt{2} $ и $ x = -\\sqrt{3} $"
   ]
  },
  {
   "cell_type": "markdown",
   "metadata": {},
   "source": [
    "Данные прямые являются вертикальными линиями, проходящими в разных точках на оси х, т.е. параллельными, соответственно, угол между ними = $ 0^{\\circ} $"
   ]
  },
  {
   "cell_type": "markdown",
   "metadata": {},
   "source": [
    "Приведём уравнения к виду Ax + By + C = 0:\n",
    "\n",
    "$ 1*x + 0*y - \\sqrt{2} = 0 $\n",
    "\n",
    "$ 1*x + 0*y + \\sqrt{3} = 0 $\n",
    "\n",
    "Для поиска угла между ними воспользуемся правилом: $ cos(\\alpha) = \\frac{A_1*A_2 + B_1*B_2}{\\sqrt{A_1^2 + B_1^2} * \\sqrt{A_2^2 + B_2^2}} $\n",
    "\n",
    "$ cos(\\alpha) = \\frac{1*1 + 0*0}{\\sqrt{1^2 + 0^2} * \\sqrt{1^2 + 0^2}} $\n",
    "\n",
    "$ cos(\\alpha) = \\frac{1}{1} => \\alpha = arccos(1) = 0^{\\circ} $"
   ]
  },
  {
   "cell_type": "code",
   "execution_count": null,
   "metadata": {},
   "outputs": [],
   "source": []
  }
 ],
 "metadata": {
  "kernelspec": {
   "display_name": "Python 3",
   "language": "python",
   "name": "python3"
  },
  "language_info": {
   "codemirror_mode": {
    "name": "ipython",
    "version": 3
   },
   "file_extension": ".py",
   "mimetype": "text/x-python",
   "name": "python",
   "nbconvert_exporter": "python",
   "pygments_lexer": "ipython3",
   "version": "3.7.3"
  }
 },
 "nbformat": 4,
 "nbformat_minor": 2
}
