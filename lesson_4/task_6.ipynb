{
 "cells": [
  {
   "cell_type": "markdown",
   "metadata": {},
   "source": [
    "Выяснить тип кривых второго порядка:\n",
    "1. $ y^2 - 2*x - 2*y - 5 = 0 $\n",
    "2. $ 3*x^2 + 5*y^2 + 12*x - 30*y + 42 = 0 $\n",
    "3. $ 2*x^2 - y^2 + 6*y - 7 = 0 $\n",
    "4. $ 2*x^2 - 3*y^2 - 28*x - 42*y - 55 = 0 $"
   ]
  },
  {
   "cell_type": "markdown",
   "metadata": {},
   "source": [
    "Примем общий вид уравнения: $ a_{11}*x^2 + a_{22}*y^2 + 2*a_{12}*x*y + 2*a_{13}*x + 2*a_{23}*y + a_{33} = 0 $\n",
    "\n",
    "Тогда типы кривых будем определять на основании значений ортогональных инвариантов $ \\tau = a_{11} + a_{22}, \\delta = \\begin{vmatrix}\n",
    "a_{11} & a_{12}\\\\\n",
    "a_{12} & a_{22}\n",
    "\\end{vmatrix}, \\Delta = \\begin{vmatrix}\n",
    "a_{11} & a_{12} & a_{13}\\\\\n",
    "a_{12} & a_{22} & a_{23}\\\\\n",
    "a_{13} & a_{23} & a_{33}\n",
    "\\end{vmatrix}$"
   ]
  },
  {
   "cell_type": "markdown",
   "metadata": {},
   "source": [
    "1. Ортогональные инварианты уравнения: $ \\tau = 0 + 1 = 1, \\delta = 0, \\Delta = 1 => \\delta = 0, \\Delta \\neq 0 $\n",
    "\n",
    "Соответственно, данная кривая относится к типу **параболы**"
   ]
  },
  {
   "cell_type": "markdown",
   "metadata": {},
   "source": [
    "2. Ортогональные инварианты уравнения: $ \\tau = 3 + 5 = 8, \\delta = 15, \\Delta = -225 => \\delta > 0, \\Delta \\neq 0, \\tau * \\Delta < 0 $\n",
    "\n",
    "Соответственно, данная кривая относится к типу **эллипса**"
   ]
  },
  {
   "cell_type": "markdown",
   "metadata": {},
   "source": [
    "3. Ортогональные инварианты уравнения: $ \\tau = 2 - 1 = 1, \\delta = -2, \\Delta = -4 => \\delta < 0, \\Delta \\neq 0 $\n",
    "\n",
    "Соответственно, данная кривая относится к типу **гиперболы**"
   ]
  },
  {
   "cell_type": "markdown",
   "metadata": {},
   "source": [
    "4. Ортогональные инварианты уравнения: $ \\tau = 2 - 3 = -1, \\delta = -6, \\Delta = 36 => \\delta < 0, \\Delta \\neq 0 $\n",
    "\n",
    "Соответственно, данная кривая относится к типу **гиперболы**"
   ]
  },
  {
   "cell_type": "code",
   "execution_count": null,
   "metadata": {},
   "outputs": [],
   "source": []
  }
 ],
 "metadata": {
  "kernelspec": {
   "display_name": "Python 3",
   "language": "python",
   "name": "python3"
  },
  "language_info": {
   "codemirror_mode": {
    "name": "ipython",
    "version": 3
   },
   "file_extension": ".py",
   "mimetype": "text/x-python",
   "name": "python",
   "nbconvert_exporter": "python",
   "pygments_lexer": "ipython3",
   "version": "3.7.3"
  }
 },
 "nbformat": 4,
 "nbformat_minor": 2
}
