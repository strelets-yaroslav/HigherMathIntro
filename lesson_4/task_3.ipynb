{
 "cells": [
  {
   "cell_type": "markdown",
   "metadata": {},
   "source": [
    "3. Задание (в программе или на листочке)\n",
    "\n",
    "На листе тетради «в линейку» (расстояние между линиями равно а) лежит игла (длиной b). Координаты нижней точки иглы (х,у), игла лежит под углом alfa. Пересекает ли игла линию или нет?"
   ]
  },
  {
   "cell_type": "markdown",
   "metadata": {},
   "source": [
    "Примем, что линии равномерно расположены, начиная от нижней границы листа, а также, что игла полностью лежит на листе.\n",
    "\n",
    "Нужно узнать положение координат начала и конца иглы относительно линий, для чего используем целочисленное деление.\n",
    "\n",
    "$ startPosition = y // a $\n",
    "\n",
    "$ endPosition = (y + b * sin(\\alpha)) // a $\n",
    "\n",
    "$ \\begin{vmatrix}\n",
    "startPosition - endPosition\n",
    "\\end{vmatrix} \\geq 1 $ => игла при этом пересечёт минимум одну линию"
   ]
  },
  {
   "cell_type": "code",
   "execution_count": 1,
   "metadata": {},
   "outputs": [],
   "source": [
    "import numpy as np\n",
    "import matplotlib.pyplot as plt"
   ]
  },
  {
   "cell_type": "code",
   "execution_count": 27,
   "metadata": {},
   "outputs": [
    {
     "name": "stdout",
     "output_type": "stream",
     "text": [
      "игла не пересекает ни одну линию\n"
     ]
    },
    {
     "data": {
      "image/png": "[encoded data removed]",
      "text/plain": [
       "<Figure size 504x504 with 1 Axes>"
      ]
     },
     "metadata": {
      "needs_background": "light"
     },
     "output_type": "display_data"
    }
   ],
   "source": [
    "width, height = 20, 30\n",
    "a = 2\n",
    "b = 4.5\n",
    "x, y = 10.3, 14.2\n",
    "alpha = np.pi / 8\n",
    "\n",
    "start = int(y / a)\n",
    "x1 = x + b * np.cos(alpha)\n",
    "y1 = y + b * np.sin(alpha)\n",
    "end = int(y1 / a)\n",
    "\n",
    "decision = \"игла \"\n",
    "lines = np.abs(start - end)\n",
    "if lines >= 1:\n",
    "    decision += f\"пересекает {lines} лини\"\n",
    "    if lines ==1:\n",
    "        decision += \"ю\"\n",
    "    elif lines in (2, 3, 4):\n",
    "        decision += \"и\"\n",
    "    else:\n",
    "        decision += \"й\"\n",
    "else:\n",
    "    decision += \"не пересекает ни одну линию\"\n",
    "\n",
    "print(decision)\n",
    "\n",
    "X = [x, x1]\n",
    "Y = [y, y1]\n",
    "\n",
    "plt.figure(figsize = (7, 7))    \n",
    "plt.plot(X, Y, 'red') \n",
    "for i in np.arange(0, height, a):\n",
    "    plt.plot([0, width], [i, i], linewidth=0.5, color='grey')\n",
    "plt.xlim(0, width)\n",
    "plt.ylim(0, height)\n",
    "plt.show()"
   ]
  },
  {
   "cell_type": "code",
   "execution_count": null,
   "metadata": {},
   "outputs": [],
   "source": []
  }
 ],
 "metadata": {
  "kernelspec": {
   "display_name": "Python 3",
   "language": "python",
   "name": "python3"
  },
  "language_info": {
   "codemirror_mode": {
    "name": "ipython",
    "version": 3
   },
   "file_extension": ".py",
   "mimetype": "text/x-python",
   "name": "python",
   "nbconvert_exporter": "python",
   "pygments_lexer": "ipython3",
   "version": "3.7.3"
  }
 },
 "nbformat": 4,
 "nbformat_minor": 2
}
