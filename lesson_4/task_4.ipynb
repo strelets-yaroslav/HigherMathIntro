{
 "cells": [
  {
   "cell_type": "markdown",
   "metadata": {},
   "source": [
    "4. Задание** (задание делать по желанию)\n",
    "\n",
    "Решите аналитически и потом численно (в программе) уравнение, зависящее от параметра а: sin(а*x)=0\n",
    "\n",
    "при условии: 0.01<a<0.02, 100<х<500.\n",
    "\n",
    "Т.е. надо найти решение х как функцию параметра а - построить график x=x (а).\n",
    "Если численным методом не получается найти все ветви решения x(а), то отыщите хотя бы одну.l"
   ]
  },
  {
   "cell_type": "markdown",
   "metadata": {},
   "source": [
    "$ sin(a * x) = 0 $\n",
    "\n",
    "$ a * x = \\pi * n, n \\in \\mathbb{Z} $\n",
    "\n",
    "$ x = \\frac{\\pi * n}{a}, n \\in \\mathbb{Z} $\n",
    "\n",
    "$ 100 < x < 500 => 100 < \\frac{\\pi * n}{a} < 500 => \\frac{100 * a}{\\pi} < n < \\frac{500 * a}{\\pi} $\n",
    "\n",
    "$ 0.01 < a < 0.02 => \\frac{100 * 0.01}{\\pi} < n < \\frac{500 * 0.02}{\\pi} => \\frac{1}{\\pi} < n < \\frac{10}{\\pi} => 0.31831 < n < 3.1831 $\n",
    "\n",
    "соответственно, n может принимать значения: 1, 2, 3 => имеются 3 решения для данных условий: $ x1 = \\frac{\\pi}{a}, x2 = \\frac{2 * \\pi}{a}, x3 = \\frac{3 * \\pi}{a} $"
   ]
  },
  {
   "cell_type": "code",
   "execution_count": 49,
   "metadata": {},
   "outputs": [],
   "source": [
    "import numpy as np\n",
    "import matplotlib.pyplot as plt"
   ]
  },
  {
   "cell_type": "code",
   "execution_count": 50,
   "metadata": {},
   "outputs": [
    {
     "data": {
      "text/plain": [
       "(100.0, 500.0)"
      ]
     },
     "execution_count": 50,
     "metadata": {},
     "output_type": "execute_result"
    },
    {
     "data": {
      "image/png": "[encoded data removed]",
      "text/plain": [
       "<Figure size 432x288 with 1 Axes>"
      ]
     },
     "metadata": {
      "needs_background": "light"
     },
     "output_type": "display_data"
    }
   ],
   "source": [
    "a = np.linspace(0.01, 0.02, 100)\n",
    "for n in range(1, 4):\n",
    "    x = np.pi * n / a\n",
    "    plt.plot(a, x)\n",
    "plt.xlabel(\"a\")\n",
    "plt.ylabel(\"x\")\n",
    "plt.ylim(100, 500)"
   ]
  },
  {
   "cell_type": "code",
   "execution_count": 51,
   "metadata": {},
   "outputs": [
    {
     "data": {
      "text/plain": [
       "418.8790204786391"
      ]
     },
     "execution_count": 51,
     "metadata": {},
     "output_type": "execute_result"
    }
   ],
   "source": [
    "a = 0.015\n",
    "x = np.pi * 2 / a\n",
    "x"
   ]
  },
  {
   "cell_type": "code",
   "execution_count": 52,
   "metadata": {},
   "outputs": [
    {
     "data": {
      "text/plain": [
       "True"
      ]
     },
     "execution_count": 52,
     "metadata": {},
     "output_type": "execute_result"
    }
   ],
   "source": [
    "np.round(np.sin(a*x), 8) == 0"
   ]
  },
  {
   "cell_type": "code",
   "execution_count": null,
   "metadata": {},
   "outputs": [],
   "source": []
  }
 ],
 "metadata": {
  "kernelspec": {
   "display_name": "Python 3",
   "language": "python",
   "name": "python3"
  },
  "language_info": {
   "codemirror_mode": {
    "name": "ipython",
    "version": 3
   },
   "file_extension": ".py",
   "mimetype": "text/x-python",
   "name": "python",
   "nbconvert_exporter": "python",
   "pygments_lexer": "ipython3",
   "version": "3.7.3"
  }
 },
 "nbformat": 4,
 "nbformat_minor": 2
}
