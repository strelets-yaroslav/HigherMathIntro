{
 "cells": [
  {
   "cell_type": "markdown",
   "metadata": {},
   "source": [
    "Решите **линейную** систему уравнений:\n",
    "$$\\left\\{\n",
    "    \\begin{array}\\\\\n",
    "        3x - 2y + 5z = 7, {линейное\\ уравнение}\\\\\n",
    "        7x + 4y - 8z = 3, {линейное\\ уравнение}\\\\\n",
    "        5x\\ – 3y - 4z = -12, {линейное\\ уравнение}\n",
    "    \\end{array}\n",
    "\\right.$$\n",
    "\n",
    "1. Методом подстановки.\n",
    "\n",
    "Выражаем в первом уравнении $y$: $2y = 3x + 5z - 7, => y = \\frac{1}{2}(3x + 5z - 7)$\n",
    "\n",
    "Выражаем во втором $z$: $7x + 2(3x + 5z - 7) - 8z = 3, => z = \\frac{1}{2}(-13x + 17)$\n",
    "\n",
    "Подставляем в выражение для $y$ и далее всё в третье: $5x - \\frac{3}{2}(3x + \\frac{5}{2}(-13x + 17) - 7) - 2(-13x + 17) = -12$\n",
    "\n",
    "Избавляемся от дробей: $2x + 15*13x - 15*17 + 42 + 104x - 136 + 48 = 0$\n",
    "\n",
    "Отсюда $301x = 255 +136 - 90, => x = 1\\\\\n",
    "z = \\frac{-13 + 17}{2} = 2\\\\\n",
    "y = \\frac{3 + 5*2 - 7}{2} = 3$\n",
    "\n",
    "$x = 1, y = 3, z = 2$\n",
    "\n",
    "2. Методом Крамера.\n",
    "\n",
    "Матрица коэффициентов: $\\begin{pmatrix}\n",
    "3 & -2 & 5\\\\\n",
    "7 & 4 & -8\\\\\n",
    "5 & -3 & -4\n",
    "\\end{pmatrix}$\n",
    "\n",
    "Вектор правой части: $\\begin{pmatrix}\n",
    "7 & 3 & -12\n",
    "\\end{pmatrix}$\n",
    "\n",
    "Определитель матрицы коэффицентов: $\\Delta = \\begin{vmatrix}\n",
    "3 & -2 & 5\\\\\n",
    "7 & 4 & -8\\\\\n",
    "5 & -3 & -4\n",
    "\\end{vmatrix} = 3*4*(-4) + (-2)*(-8)*5 + 5*7*(-3) - 5*4*5 - (-3)*(-8)*3 - (-4)*7*(-2) = -48 + 80 - 105 - 100 - 72 - 56 = -301$\n",
    "\n",
    "Определитель для $x$: $\\Delta = \\begin{vmatrix}\n",
    "7 & -2 & 5\\\\\n",
    "3 & 4 & -8\\\\\n",
    "-12 & -3 & -4\n",
    "\\end{vmatrix} = 7*4*(-4) + (-2)*(-8)*(-12) + 5*3*(-3) - (-12)*4*5 - (-3)*(-8)*7 - (-4)*3*(-2) = -112 - 192 - 45 + 240 - 168 - 24 = -301$\n",
    "\n",
    "Определитель для $y$: $\\Delta = \\begin{vmatrix}\n",
    "3 & 7 & 5\\\\\n",
    "7 & 3 & -8\\\\\n",
    "5 & -12 & -4\n",
    "\\end{vmatrix} = 3*3*(-4) + 7*(-8)*5 + 5*7*(-12) - 5*3*5 - (-12)*(-8)*3 - (-4)*7*7 = -36 - 280 - 420 - 75 - 288 + 196 = -903$\n",
    "\n",
    "Определитель для $z$: $\\Delta = \\begin{vmatrix}\n",
    "3 & -2 & 7\\\\\n",
    "7 & 4 & 3\\\\\n",
    "5 & -3 & -12\n",
    "\\end{vmatrix} = 3*4*(-12) + (-2)*3*5 + 7*7*(-3) - 5*4*7 - (-3)*3*3 - (-12)*7*(-2) = -144 - 30 - 147 - 140 + 27 - 168 = -602$\n",
    "\n",
    "Соответственно, $x = \\frac{-301}{-301} = 1, y = \\frac{-903}{-301} = 3, z = \\frac{-602}{-301} = 2$"
   ]
  },
  {
   "cell_type": "code",
   "execution_count": 34,
   "metadata": {},
   "outputs": [
    {
     "name": "stdout",
     "output_type": "stream",
     "text": [
      "x = 1, y = 3, z = 2\n"
     ]
    }
   ],
   "source": [
    "import numpy as np\n",
    "\n",
    "a = [[3, -2, 5], [7, 4, -8], [5, -3, -4]]\n",
    "b = [7, 3, -12]\n",
    "np_a = np.array(a)\n",
    "np_b = np.array(b)\n",
    "result = np.linalg.solve(np_a, np_b)\n",
    "print(f\"x = {int(result[0])}, y = {int(result[1])}, z = {int(result[2])}\")"
   ]
  },
  {
   "cell_type": "code",
   "execution_count": 35,
   "metadata": {},
   "outputs": [
    {
     "name": "stdout",
     "output_type": "stream",
     "text": [
      "-301.0\n"
     ]
    }
   ],
   "source": [
    "det_a = round(np.linalg.det(np_a), 2)\n",
    "print(det_a)"
   ]
  },
  {
   "cell_type": "code",
   "execution_count": 36,
   "metadata": {},
   "outputs": [
    {
     "name": "stdout",
     "output_type": "stream",
     "text": [
      "[[  7  -2   5]\n",
      " [  3   4  -8]\n",
      " [-12  -3  -4]]\n",
      "[[  3   7   5]\n",
      " [  7   3  -8]\n",
      " [  5 -12  -4]]\n",
      "[[  3  -2   7]\n",
      " [  7   4   3]\n",
      " [  5  -3 -12]]\n"
     ]
    }
   ],
   "source": [
    "np_a_1 = np_a.copy().T\n",
    "np_a_1[0] = np_b\n",
    "np_a_1 = np_a_1.T\n",
    "print(np_a_1)\n",
    "np_a_2 = np_a.copy().T\n",
    "np_a_2[1] = np_b\n",
    "np_a_2 = np_a_2.T\n",
    "print(np_a_2)\n",
    "np_a_3 = np_a.copy().T\n",
    "np_a_3[2] = np_b\n",
    "np_a_3 = np_a_3.T\n",
    "print(np_a_3)"
   ]
  },
  {
   "cell_type": "code",
   "execution_count": 37,
   "metadata": {},
   "outputs": [
    {
     "name": "stdout",
     "output_type": "stream",
     "text": [
      "-301.0\n",
      "-903.0\n",
      "-602.0\n"
     ]
    }
   ],
   "source": [
    "det_a_1 = round(np.linalg.det(np_a_1), 2)\n",
    "print(det_a_1)\n",
    "det_a_2 = round(np.linalg.det(np_a_2), 2)\n",
    "print(det_a_2)\n",
    "det_a_3 = round(np.linalg.det(np_a_3), 2)\n",
    "print(det_a_3)"
   ]
  },
  {
   "cell_type": "code",
   "execution_count": 38,
   "metadata": {},
   "outputs": [
    {
     "name": "stdout",
     "output_type": "stream",
     "text": [
      "x = 1, y = 3, z = 2\n"
     ]
    }
   ],
   "source": [
    "x = det_a_1 / det_a\n",
    "y = det_a_2 / det_a\n",
    "z = det_a_3 / det_a\n",
    "print(f\"x = {int(x)}, y = {int(y)}, z = {int(z)}\")"
   ]
  }
 ],
 "metadata": {
  "kernelspec": {
   "display_name": "Python 3",
   "language": "python",
   "name": "python3"
  },
  "language_info": {
   "codemirror_mode": {
    "name": "ipython",
    "version": 3
   },
   "file_extension": ".py",
   "mimetype": "text/x-python",
   "name": "python",
   "nbconvert_exporter": "python",
   "pygments_lexer": "ipython3",
   "version": "3.7.3"
  }
 },
 "nbformat": 4,
 "nbformat_minor": 2
}
