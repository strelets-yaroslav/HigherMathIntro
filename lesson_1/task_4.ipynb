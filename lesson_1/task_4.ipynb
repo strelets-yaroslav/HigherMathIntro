{
 "cells": [
  {
   "cell_type": "markdown",
   "metadata": {},
   "source": [
    "Площадь пола прямоугольной комнаты равна 48 м2,а его периметр равен 28 м. Найдите длину и ширину комнаты."
   ]
  },
  {
   "cell_type": "markdown",
   "metadata": {},
   "source": [
    "$\\left\\{\n",
    "    \\begin{array}\\\\\n",
    "        xy = 48\\\\\n",
    "        2x + 2y = 28\\\\\n",
    "    \\end{array}\n",
    "\\right. => \n",
    "\\left\\{\n",
    "    \\begin{array}\\\\\n",
    "        xy = 48\\\\\n",
    "        x + y = 14\\\\\n",
    "    \\end{array}\n",
    "\\right. => \n",
    "\\left\\{\n",
    "    \\begin{array}\\\\\n",
    "        xy = 48\\\\\n",
    "        y = 14 - x\\\\\n",
    "    \\end{array}\n",
    "\\right. => \n",
    "\\left\\{\n",
    "    \\begin{array}\\\\\n",
    "        x(14 - y) = 48\\\\\n",
    "        x + y = 14\\\\\n",
    "    \\end{array}\n",
    "\\right. =>\\\\\n",
    "$\n",
    "Решаем первое уравнение:\n",
    "\n",
    "$$x(14 - y) = 48, => x^2 - 14x + 48 = 0$$\n",
    "$$D = (-14)^2 - 4 * 1 * 48 = 4$$\n",
    "$$x_1 = \\frac{14 + \\sqrt{4}}{2} = 8\\\\\n",
    "x_2 = \\frac{14 - \\sqrt{4}}{2} = 6$$\n",
    "\n",
    "$y_1 = 14 - x_1 = 14 - 8 = 6$ - проверка соответствия.\n",
    "\n",
    "Длина пола = 8м, ширина = 6м"
   ]
  },
  {
   "cell_type": "code",
   "execution_count": 6,
   "metadata": {},
   "outputs": [
    {
     "name": "stdout",
     "output_type": "stream",
     "text": [
      "length: 8.0, width: 6.0\n"
     ]
    }
   ],
   "source": [
    "from math import sqrt\n",
    "\n",
    "\n",
    "def discriminant(a, b, c):\n",
    "    return (b ** 2) - 4 * a * c\n",
    "\n",
    "\n",
    "a, b, c = 1, -14, 48\n",
    "d = discriminant(a, b, c)\n",
    "if d > 0:\n",
    "    x_1 = (-1 * b + sqrt(d)) / 2 * a\n",
    "    x_2 = (-1 * b - sqrt(d)) / 2 * a\n",
    "    print(f\"length: {max(x_1, x_2)}, width: {min(x_1, x_2)}\")\n",
    "else:\n",
    "    print(\"the equation has no real roots...\")"
   ]
  }
 ],
 "metadata": {
  "kernelspec": {
   "display_name": "Python 3",
   "language": "python",
   "name": "python3"
  },
  "language_info": {
   "codemirror_mode": {
    "name": "ipython",
    "version": 3
   },
   "file_extension": ".py",
   "mimetype": "text/x-python",
   "name": "python",
   "nbconvert_exporter": "python",
   "pygments_lexer": "ipython3",
   "version": "3.7.3"
  }
 },
 "nbformat": 4,
 "nbformat_minor": 2
}
