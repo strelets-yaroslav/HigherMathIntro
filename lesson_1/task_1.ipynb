{
 "cells": [
  {
   "cell_type": "markdown",
   "metadata": {},
   "source": [
    "Просто суммируем два произведения:\n",
    "$$7 * \\begin{pmatrix}\n",
    "5 & 10\\\\\n",
    "7 & 12\\\\\n",
    "11.3 & 5\\\\\n",
    "25 & 30\\\\\n",
    "\\end{pmatrix} + 2 * \\begin{pmatrix}\n",
    "5 & 10\\\\\n",
    "7 & 12\\\\\n",
    "11.3 & 5\\\\\n",
    "25 & 30\\\\\n",
    "\\end{pmatrix} = \\begin{pmatrix}\n",
    "35 & 70\\\\\n",
    "49 & 84\\\\\n",
    "79.1 & 35\\\\\n",
    "175 & 210\\\\\n",
    "\\end{pmatrix} + \\begin{pmatrix}\n",
    "10 & 20\\\\\n",
    "14 & 24\\\\\n",
    "22.6 & 10\\\\\n",
    "50 & 60\\\\\n",
    "\\end{pmatrix} = \\begin{pmatrix}\n",
    "45 & 90\\\\\n",
    "63 & 108\\\\\n",
    "101.7 & 45\\\\\n",
    "225 & 270\\\\\n",
    "\\end{pmatrix}$$"
   ]
  },
  {
   "cell_type": "markdown",
   "metadata": {},
   "source": [
    "Матрицы одинаковые - можем вычислить сумму множителей и осуществить только умножение:\n",
    "$$7 * \\begin{pmatrix}\n",
    "5 & 10\\\\\n",
    "7 & 12\\\\\n",
    "11.3 & 5\\\\\n",
    "25 & 30\\\\\n",
    "\\end{pmatrix} + 2 * \\begin{pmatrix}\n",
    "5 & 10\\\\\n",
    "7 & 12\\\\\n",
    "11.3 & 5\\\\\n",
    "25 & 30\\\\\n",
    "\\end{pmatrix} = \\begin{pmatrix}\n",
    "5 & 10\\\\\n",
    "7 & 12\\\\\n",
    "11.3 & 5\\\\\n",
    "25 & 30\\\\\n",
    "\\end{pmatrix} * (7 + 2) = 9 * \\begin{pmatrix}\n",
    "5 & 10\\\\\n",
    "7 & 12\\\\\n",
    "11.3 & 5\\\\\n",
    "25 & 30\\\\\n",
    "\\end{pmatrix} = \\begin{pmatrix}\n",
    "45 & 90\\\\\n",
    "63 & 108\\\\\n",
    "101.7 & 45\\\\\n",
    "225 & 270\\\\\n",
    "\\end{pmatrix}$$"
   ]
  },
  {
   "cell_type": "code",
   "execution_count": 5,
   "metadata": {},
   "outputs": [
    {
     "data": {
      "text/plain": [
       "[[5, 10], [7, 12], [11.3, 5], [25, 30]]"
      ]
     },
     "execution_count": 5,
     "metadata": {},
     "output_type": "execute_result"
    }
   ],
   "source": [
    "matrix = [[5, 10], [7, 12], [11.3, 5], [25, 30]]\n",
    "matrix"
   ]
  },
  {
   "cell_type": "code",
   "execution_count": 6,
   "metadata": {},
   "outputs": [
    {
     "name": "stdout",
     "output_type": "stream",
     "text": [
      "[[35, 70], [49, 84], [79.1, 35], [175, 210]]\n",
      "[[10, 20], [14, 24], [22.6, 10], [50, 60]]\n",
      "[[45, 90], [63, 108], [101.7, 45], [225, 270]]\n"
     ]
    }
   ],
   "source": [
    "# 1st option\n",
    "matrix_1 = [[round(7 * matrix[i][j], 1) for j in range(len(matrix[0]))] for i in range(len(matrix))]\n",
    "matrix_2 = [[round(2 * matrix[i][j], 1) for j in range(len(matrix[0]))] for i in range(len(matrix))]\n",
    "print(matrix_1)\n",
    "print(matrix_2)\n",
    "result = [[round(matrix_1[i][j] + matrix_2[i][j], 1) for j in range(len(matrix[i]))] for i in range(len(matrix))]\n",
    "print(result)"
   ]
  },
  {
   "cell_type": "code",
   "execution_count": 7,
   "metadata": {},
   "outputs": [
    {
     "data": {
      "text/plain": [
       "[[45, 90], [63, 108], [101.7, 45], [225, 270]]"
      ]
     },
     "execution_count": 7,
     "metadata": {},
     "output_type": "execute_result"
    }
   ],
   "source": [
    "# 2nd option\n",
    "result = [[9 * matrix[i][j] for j in range(len(matrix[0]))] for i in range(len(matrix))]\n",
    "result"
   ]
  },
  {
   "cell_type": "code",
   "execution_count": 8,
   "metadata": {},
   "outputs": [
    {
     "name": "stdout",
     "output_type": "stream",
     "text": [
      "[[ 45.   90. ]\n",
      " [ 63.  108. ]\n",
      " [101.7  45. ]\n",
      " [225.  270. ]]\n",
      "[[ 45.   90. ]\n",
      " [ 63.  108. ]\n",
      " [101.7  45. ]\n",
      " [225.  270. ]]\n"
     ]
    }
   ],
   "source": [
    "import numpy as np\n",
    "\n",
    "np_matrix = np.matrix(matrix)\n",
    "res_1 = 7*np_matrix + 2*np_matrix\n",
    "print(res_1)\n",
    "\n",
    "res_2 = 9*np_matrix\n",
    "print(res_2)"
   ]
  }
 ],
 "metadata": {
  "kernelspec": {
   "display_name": "Python 3",
   "language": "python",
   "name": "python3"
  },
  "language_info": {
   "codemirror_mode": {
    "name": "ipython",
    "version": 3
   },
   "file_extension": ".py",
   "mimetype": "text/x-python",
   "name": "python",
   "nbconvert_exporter": "python",
   "pygments_lexer": "ipython3",
   "version": "3.7.3"
  }
 },
 "nbformat": 4,
 "nbformat_minor": 2
}
