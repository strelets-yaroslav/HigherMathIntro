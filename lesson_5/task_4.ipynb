{
 "cells": [
  {
   "cell_type": "markdown",
   "metadata": {},
   "source": [
    "**Из урока по комбинаторике повторите расчеты, сгенерировав возможные варианты перестановок для других значений n и k**"
   ]
  },
  {
   "cell_type": "code",
   "execution_count": 51,
   "metadata": {},
   "outputs": [],
   "source": [
    "import itertools\n",
    "from math import factorial as fact\n",
    "\n",
    "def combin_num(k, n):\n",
    "    return int(fact(n) / (fact(k) * fact(n - k)))\n",
    "\n",
    "def permut_num(k, n):\n",
    "    a = n\n",
    "    for i in range(1, k):\n",
    "        a *= (n - i)\n",
    "    return a\n",
    "\n",
    "def permut_num_1(k, n):\n",
    "    return int(fact(n) / fact(n - k))"
   ]
  },
  {
   "cell_type": "code",
   "execution_count": 52,
   "metadata": {},
   "outputs": [],
   "source": [
    "k, n = 3, 8"
   ]
  },
  {
   "cell_type": "code",
   "execution_count": 53,
   "metadata": {},
   "outputs": [
    {
     "name": "stdout",
     "output_type": "stream",
     "text": [
      "Число сочетаний = 56\n",
      "Число перестановок = 336\n",
      "Число перестановок (через факториал) = 336\n"
     ]
    }
   ],
   "source": [
    "print(f'Число сочетаний = {combin_num(k, n)}')\n",
    "print(f'Число перестановок = {permut_num(k, n)}')\n",
    "print(f'Число перестановок (через факториал) = {permut_num_1(k, n)}')"
   ]
  },
  {
   "cell_type": "code",
   "execution_count": 54,
   "metadata": {},
   "outputs": [
    {
     "name": "stdout",
     "output_type": "stream",
     "text": [
      "56\n",
      "336\n"
     ]
    }
   ],
   "source": [
    "nums = ''\n",
    "for i in range(n):\n",
    "    nums += str(i)\n",
    "\n",
    "print(len(list(itertools.combinations(nums, k))))\n",
    "print(len(list(itertools.permutations(nums, k))))"
   ]
  },
  {
   "cell_type": "code",
   "execution_count": null,
   "metadata": {},
   "outputs": [],
   "source": []
  }
 ],
 "metadata": {
  "kernelspec": {
   "display_name": "Python 3",
   "language": "python",
   "name": "python3"
  },
  "language_info": {
   "codemirror_mode": {
    "name": "ipython",
    "version": 3
   },
   "file_extension": ".py",
   "mimetype": "text/x-python",
   "name": "python",
   "nbconvert_exporter": "python",
   "pygments_lexer": "ipython3",
   "version": "3.7.3"
  }
 },
 "nbformat": 4,
 "nbformat_minor": 2
}
