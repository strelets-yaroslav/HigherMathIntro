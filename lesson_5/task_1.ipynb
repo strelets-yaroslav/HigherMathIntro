{
 "cells": [
  {
   "cell_type": "markdown",
   "metadata": {},
   "source": [
    "**1. Напишите код, моделирующий выпадение поля в рулетке (с учетом поля зеро).**"
   ]
  },
  {
   "cell_type": "code",
   "execution_count": null,
   "metadata": {},
   "outputs": [],
   "source": [
    "import numpy as np"
   ]
  },
  {
   "cell_type": "code",
   "execution_count": null,
   "metadata": {},
   "outputs": [],
   "source": [
    "def roulette(only_num = False):\n",
    "    reds = [1, 3 ,5, 7, 9, 12, 14, 16, 18, 19, 21, 23, 25, 27, 30, 32, 34, 36]\n",
    "    \n",
    "    number = np.random.randint(0, 37) # полуоткрытый диапазон [0, 37)\n",
    "    \n",
    "    if only_num:\n",
    "        return number\n",
    "    \n",
    "    if number == 0:\n",
    "        return 'Zero!!!'\n",
    "    else:\n",
    "        odd = \"чётное\" if (number % 2 == 0) else \"нечётное\"\n",
    "        color = \"красное\" if (number in reds) else \"чёрное\"\n",
    "        return f'{number}, {odd}, {color}'"
   ]
  },
  {
   "cell_type": "code",
   "execution_count": null,
   "metadata": {},
   "outputs": [],
   "source": [
    "exit_code = 'q'\n",
    "exit_cmd = ''\n",
    "while exit_cmd != exit_code:\n",
    "    print (roulette())\n",
    "    \n",
    "    exit_cmd = input(f'Продолжаем (для выхода нажмите {exit_code})?')"
   ]
  },
  {
   "cell_type": "code",
   "execution_count": null,
   "metadata": {},
   "outputs": [],
   "source": []
  }
 ],
 "metadata": {
  "kernelspec": {
   "display_name": "Python 3",
   "language": "python",
   "name": "python3"
  },
  "language_info": {
   "codemirror_mode": {
    "name": "ipython",
    "version": 3
   },
   "file_extension": ".py",
   "mimetype": "text/x-python",
   "name": "python",
   "nbconvert_exporter": "python",
   "pygments_lexer": "ipython3",
   "version": "3.7.3"
  }
 },
 "nbformat": 4,
 "nbformat_minor": 2
}
