{
 "cells": [
  {
   "cell_type": "markdown",
   "metadata": {},
   "source": [
    "**Дополните код Монте-Карло последовательности независимых испытаний расчетом соответствующих вероятностей (через биномиальное распределение) и сравните результаты.**"
   ]
  },
  {
   "cell_type": "code",
   "execution_count": 73,
   "metadata": {},
   "outputs": [],
   "source": [
    "import numpy as np\n",
    "from math import factorial as fact\n",
    "\n",
    "def binom_coef(k, n):\n",
    "    return fact(n) / (fact(k) * fact(n - k))\n",
    "\n",
    "def binom_prob(p, k, n):\n",
    "    return binom_coef(k, n) * (p ** k) * ((1 - p) ** (n - k))"
   ]
  },
  {
   "cell_type": "code",
   "execution_count": 74,
   "metadata": {},
   "outputs": [
    {
     "name": "stdout",
     "output_type": "stream",
     "text": [
      "0.375\n"
     ]
    }
   ],
   "source": [
    "k, m, n = 2, 4, 100000\n",
    "p = 0.5\n",
    "print(binom_prob(p, k, m))"
   ]
  },
  {
   "cell_type": "code",
   "execution_count": 75,
   "metadata": {},
   "outputs": [
    {
     "name": "stdout",
     "output_type": "stream",
     "text": [
      "0.37528\n"
     ]
    }
   ],
   "source": [
    "samples = [list(np.random.randint(0, 2, n)) for _ in range(m)] # m выборок по n чисел = n испытаний по m подбрасываний\n",
    "tests = []\n",
    "for i in range(n):\n",
    "    tests.append(sum([samples[j][i] for j in range(m)]))\n",
    "\n",
    "p_test = 0\n",
    "for test in tests:\n",
    "    if test == k:\n",
    "        p_test += 1\n",
    "\n",
    "print(p_test / n)"
   ]
  },
  {
   "cell_type": "markdown",
   "metadata": {},
   "source": [
    "**Повторите расчеты биномиальных коэффициентов и вероятностей k успехов в последовательности из n независимых испытаний, взяв другие значения n и k.**"
   ]
  },
  {
   "cell_type": "code",
   "execution_count": 76,
   "metadata": {},
   "outputs": [
    {
     "name": "stdout",
     "output_type": "stream",
     "text": [
      "0.21875\n"
     ]
    }
   ],
   "source": [
    "k, m, n = 5, 8, 10000\n",
    "p = 0.5\n",
    "print(binom_prob(p, k, m))"
   ]
  },
  {
   "cell_type": "code",
   "execution_count": 79,
   "metadata": {},
   "outputs": [
    {
     "name": "stdout",
     "output_type": "stream",
     "text": [
      "0.2163\n"
     ]
    }
   ],
   "source": [
    "samples = [list(np.random.randint(0, 2, n)) for _ in range(m)] # m выборок по n чисел = n испытаний по m подбрасываний\n",
    "tests = []\n",
    "for i in range(n):\n",
    "    tests.append(sum([samples[j][i] for j in range(m)]))\n",
    "\n",
    "p_test = 0\n",
    "for test in tests:\n",
    "    if test == k:\n",
    "        p_test += 1\n",
    "\n",
    "print(p_test / n)"
   ]
  },
  {
   "cell_type": "code",
   "execution_count": null,
   "metadata": {},
   "outputs": [],
   "source": []
  }
 ],
 "metadata": {
  "kernelspec": {
   "display_name": "Python 3",
   "language": "python",
   "name": "python3"
  },
  "language_info": {
   "codemirror_mode": {
    "name": "ipython",
    "version": 3
   },
   "file_extension": ".py",
   "mimetype": "text/x-python",
   "name": "python",
   "nbconvert_exporter": "python",
   "pygments_lexer": "ipython3",
   "version": "3.7.3"
  }
 },
 "nbformat": 4,
 "nbformat_minor": 2
}
