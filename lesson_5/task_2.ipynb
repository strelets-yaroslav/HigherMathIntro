{
 "cells": [
  {
   "cell_type": "markdown",
   "metadata": {},
   "source": [
    "**Напишите код, проверяющий любую из теорем сложения или умножения вероятности на примере рулетки или подбрасывания монетки.**"
   ]
  },
  {
   "cell_type": "code",
   "execution_count": 57,
   "metadata": {},
   "outputs": [],
   "source": [
    "import numpy as np\n",
    "import matplotlib.pyplot as plt\n",
    "\n",
    "def roulette(only_num = False):\n",
    "    reds = [1, 3 ,5, 7, 9, 12, 14, 16, 18, 19, 21, 23, 25, 27, 30, 32, 34, 36]\n",
    "    \n",
    "    number = np.random.randint(0, 37) # полуоткрытый диапазон [0, 37)\n",
    "    \n",
    "    if only_num:\n",
    "        return number\n",
    "    \n",
    "    if number == 0:\n",
    "        return 'Zero!!!'\n",
    "    else:\n",
    "        odd = \"чётное\" if (number % 2 == 0) else \"нечётное\"\n",
    "        color = \"красное\" if (number in reds) else \"чёрное\"\n",
    "        return f'{number}, {odd}, {color}'"
   ]
  },
  {
   "cell_type": "code",
   "execution_count": 58,
   "metadata": {},
   "outputs": [
    {
     "name": "stdout",
     "output_type": "stream",
     "text": [
      "[0.025, 0.045, 0.027, 0.029, 0.021, 0.023, 0.024, 0.022, 0.029, 0.03, 0.018, 0.023, 0.029, 0.03, 0.031, 0.029, 0.028, 0.02, 0.025, 0.024, 0.03, 0.025, 0.036, 0.031, 0.035, 0.027, 0.025, 0.028, 0.024, 0.036, 0.026, 0.023, 0.033, 0.024, 0.022, 0.024, 0.019]\n"
     ]
    },
    {
     "data": {
      "text/plain": [
       "True"
      ]
     },
     "execution_count": 58,
     "metadata": {},
     "output_type": "execute_result"
    }
   ],
   "source": [
    "n = 1000\n",
    "p = [0 for _ in range(37)] # для вероятностей выпадения чисел в рулетке\n",
    "\n",
    "for _ in range(n):\n",
    "    number = roulette(True)\n",
    "    p[number] += 1\n",
    "\n",
    "p = [num / n for num in p] # получаем вероятности выпадения чисел\n",
    "print(p)\n",
    "check = sum(p) # проверка теоремы сложения\n",
    "round(check, 8) == 1"
   ]
  },
  {
   "cell_type": "markdown",
   "metadata": {},
   "source": [
    "**Сгенерируйте десять выборок случайных чисел х0, …, х9.\n",
    "и постройте гистограмму распределения случайной суммы  +х0+ …+ х 9.**"
   ]
  },
  {
   "cell_type": "code",
   "execution_count": 68,
   "metadata": {},
   "outputs": [
    {
     "name": "stdout",
     "output_type": "stream",
     "text": [
      "[503.85640997962383, 386.12327929269867, 553.1748449167318, 414.99417669889226, 549.3208522270194, 408.03485325831133, 607.092887508896, 522.0455984820375, 314.82537973045146, 632.2293598359394]\n"
     ]
    },
    {
     "data": {
      "text/plain": [
       "Text(0.5, 1.0, 'Гистограмма распределения')"
      ]
     },
     "execution_count": 68,
     "metadata": {},
     "output_type": "execute_result"
    },
    {
     "data": {
      "image/png": "[encoded data removed]",
      "text/plain": [
       "<Figure size 432x288 with 1 Axes>"
      ]
     },
     "metadata": {
      "needs_background": "light"
     },
     "output_type": "display_data"
    }
   ],
   "source": [
    "m, n = 10, 10\n",
    "start, end = 0, 100\n",
    "samples = np.random.uniform(start, end, (m, n)) # m выборок по n чисел в диапазоне [start, end)\n",
    "sums = [sum(sample) for sample in samples] # сумма по выборкам\n",
    "print(sums)\n",
    "\n",
    "bins = 5\n",
    "n, bins, patches = plt.hist(sums, bins)\n",
    "plt.xlabel('Диапазон')\n",
    "plt.ylabel('Количество')\n",
    "plt.title('Гистограмма распределения')"
   ]
  },
  {
   "cell_type": "code",
   "execution_count": null,
   "metadata": {},
   "outputs": [],
   "source": []
  }
 ],
 "metadata": {
  "kernelspec": {
   "display_name": "Python 3",
   "language": "python",
   "name": "python3"
  },
  "language_info": {
   "codemirror_mode": {
    "name": "ipython",
    "version": 3
   },
   "file_extension": ".py",
   "mimetype": "text/x-python",
   "name": "python",
   "nbconvert_exporter": "python",
   "pygments_lexer": "ipython3",
   "version": "3.7.3"
  }
 },
 "nbformat": 4,
 "nbformat_minor": 2
}
